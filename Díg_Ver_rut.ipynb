{
 "cells": [
  {
   "cell_type": "markdown",
   "metadata": {},
   "source": [
    "**Este es un título**"
   ]
  },
  {
   "cell_type": "code",
   "execution_count": null,
   "metadata": {},
   "outputs": [],
   "source": [
    "rut = input(\"Ingrese un rut valido: \")"
   ]
  },
  {
   "cell_type": "markdown",
   "metadata": {},
   "source": [
    "Función Try Catch"
   ]
  },
  {
   "cell_type": "code",
   "execution_count": null,
   "metadata": {},
   "outputs": [],
   "source": [
    "try:\n",
    "    num=rut.replace(\".\",'') #Quitamos puntos\n",
    "    numero=num.find('-') #Encontramos posicion guion\n",
    "    valor=num[0:numero] #Separamos valor\n",
    "    ivalor=int(valor) #transformamos a entero\n",
    "    svalor=str(ivalor)#seteamos como string ese valor\n",
    "    digito=num[numero+1:numero+2] # guardamos el digito\n",
    "\n",
    "except:\n",
    "    print(\"RUT CON FORMATO INVALIDO\")\n",
    "    quit()\n"
   ]
  },
  {
   "cell_type": "markdown",
   "metadata": {},
   "source": [
    "#reversamos valor numerico"
   ]
  },
  {
   "cell_type": "code",
   "execution_count": null,
   "metadata": {},
   "outputs": [],
   "source": [
    "def reverse(svalor):\n",
    "    rev = ''\n",
    "    for i in range(len(svalor), 0, -1):\n",
    "        rev += svalor[i-1]\n",
    "    return rev"
   ]
  },
  {
   "cell_type": "markdown",
   "metadata": {},
   "source": [
    "Llamado de la Función"
   ]
  },
  {
   "cell_type": "code",
   "execution_count": null,
   "metadata": {},
   "outputs": [],
   "source": [
    "trabajo=reverse(valor)\n",
    "suma=0\n",
    "mult=2\n",
    "for pos in trabajo:\n",
    "    if mult <=7:\n",
    "        suma=(int(pos)*mult)+suma\n",
    "        mult=mult+1\n",
    "        print(rut,reverse(svalor),suma)\n",
    "    elif mult >7:\n",
    "        mult=2\n",
    "        suma=(int(pos)*mult)+suma\n",
    "        mult=mult+1\n",
    "        #print(rut,reverse(svalor),suma)"
   ]
  },
  {
   "cell_type": "markdown",
   "metadata": {},
   "source": [
    "Cálculo del valor DV"
   ]
  },
  {
   "cell_type": "code",
   "execution_count": null,
   "metadata": {},
   "outputs": [],
   "source": [
    "modulo=suma%11\n",
    "DV=11-modulo\n",
    "if DV <10:\n",
    "    DV=str(DV)\n",
    "else:\n",
    "    DV='K'\n",
    "if (DV==digito.upper()):\n",
    "    print(\"RUT CORRECTO\")\n",
    "else:\n",
    "    print(\"RUT INCORRECTO\")"
   ]
  },
  {
   "cell_type": "code",
   "execution_count": null,
   "metadata": {},
   "outputs": [],
   "source": []
  },
  {
   "cell_type": "code",
   "execution_count": null,
   "metadata": {},
   "outputs": [],
   "source": []
  },
  {
   "cell_type": "code",
   "execution_count": null,
   "metadata": {},
   "outputs": [],
   "source": []
  },
  {
   "cell_type": "code",
   "execution_count": null,
   "metadata": {},
   "outputs": [],
   "source": []
  }
 ],
 "metadata": {
  "kernelspec": {
   "display_name": "Python 3",
   "language": "python",
   "name": "python3"
  },
  "language_info": {
   "codemirror_mode": {
    "name": "ipython",
    "version": 3
   },
   "file_extension": ".py",
   "mimetype": "text/x-python",
   "name": "python",
   "nbconvert_exporter": "python",
   "pygments_lexer": "ipython3",
   "version": "3.8.3"
  }
 },
 "nbformat": 4,
 "nbformat_minor": 4
}
