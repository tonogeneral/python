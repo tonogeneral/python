{
 "cells": [
  {
   "cell_type": "code",
   "execution_count": 1,
   "metadata": {},
   "outputs": [],
   "source": [
    "from urllib.request import urlopen\n",
    "from collections import defaultdict"
   ]
  },
  {
   "cell_type": "code",
   "execution_count": 2,
   "metadata": {},
   "outputs": [],
   "source": [
    "f = urlopen(\"https://www.goodreads.com/book/show/4671.The_Great_Gatsby\")"
   ]
  },
  {
   "cell_type": "code",
   "execution_count": 3,
   "metadata": {},
   "outputs": [],
   "source": [
    "html = str(f.read())"
   ]
  },
  {
   "cell_type": "code",
   "execution_count": 4,
   "metadata": {},
   "outputs": [],
   "source": [
    "#html"
   ]
  },
  {
   "cell_type": "code",
   "execution_count": 5,
   "metadata": {},
   "outputs": [],
   "source": [
    "reviews = html.split('<div id=\"review_')[1:]"
   ]
  },
  {
   "cell_type": "code",
   "execution_count": 6,
   "metadata": {},
   "outputs": [
    {
     "data": {
      "text/plain": [
       "30"
      ]
     },
     "execution_count": 6,
     "metadata": {},
     "output_type": "execute_result"
    }
   ],
   "source": [
    "len(reviews)"
   ]
  },
  {
   "cell_type": "code",
   "execution_count": 7,
   "metadata": {},
   "outputs": [
    {
     "data": {
      "text/plain": [
       "'101057684\" class=\"review nosyndicate\" itemprop=\"reviews\" itemscope itemtype=\"http://schema.org/Review\">\\\\n  <link itemprop=\"url\" href=\"https://www.goodreads.com/review/show/101057684\" />\\\\n    <a title=\"Nataliya\" class=\"left imgcol\" href=\"/user/show/3672777-nataliya\"><img alt=\"Nataliya\" src=\"https://images.gr-assets.com/users/1584921623p2/3672777.jpg\" /></a>\\\\n\\\\n  <div class=\"left bodycol\">\\\\n    <div class=\"reviewHeader uitext stacked\">\\\\n        <a class=\"reviewDate createdAt right\" href=\"/review/show/101057684?book_show_action=true\">May 02, 2010</a>\\\\n\\\\n      <span itemprop=\"author\" itemscope itemtype=\"http://schema.org/Person\">\\\\n        <a title=\"Nataliya\" class=\"user\" itemprop=\"url\" name=\"Nataliya\" href=\"/user/show/3672777-nataliya\">Nataliya</a>\\\\n      </span>\\\\n\\\\n        rated it\\\\n        <span class=\" staticStars notranslate\" title=\"it was amazing\"><span size=\"15x15\" class=\"staticStar p10\">it was amazing</span><span size=\"15x15\" class=\"staticStar p10\"></span><span size=\"15x15\" class=\"staticStar p10\"></span><span size=\"15x15\" class=\"staticStar p10\"></span><span size=\"15x15\" class=\"staticStar p10\"></span></span>\\\\n\\\\n\\\\n\\\\n        \\\\n\\\\n          <div class=\"uitext greyText bookshelves\">\\\\n            Shelves:\\\\n              <a class=\"actionLinkLite\" href=\"/review/list/3672777-nataliya?shelf=my-childhood-bookshelves\">my-childhood-bookshelves</a>, \\\\n              <a class=\"actionLinkLite\" href=\"/review/list/3672777-nataliya?shelf=books-from-childhood-revisited\">books-from-childhood-revisited</a>, \\\\n              <a class=\"actionLinkLite\" href=\"/review/list/3672777-nataliya?shelf=2013-reads\">2013-reads</a>, \\\\n              <a class=\"actionLinkLite\" href=\"/review/list/3672777-nataliya?shelf=i-also-saw-the-film\">i-also-saw-the-film</a>\\\\n          </div>\\\\n    </div>\\\\n\\\\n\\\\n        <div class=\"reviewText stacked\">\\\\n              <span id=\"reviewTextContainer101057684\" class=\"readable\"\\\\n              >\\\\n            \\\\n<span id=\"freeTextContainer17639314611116822342\"><br/>Oh Gatsby, you old sport, you poor semi-delusionally hopeful dreamer with \\\\\\'<i>some heightened sensitivity to the promises of life</i>\\\\\\', focusing your whole self and soul on that elusive money-colored green light - a dream that shatters just when you are *this* close to it. <br/><br/><img src=\\\\\\'https://i.gr-assets.com/images/S/compressed.photo.goodreads.com/hostedimages/1380334543i/693798._SX540_.jpg\\\\\\' width=\\\\\\'400\\\\\\' class=\\\\\\'gr-hostedUserImg\\\\\\'/><br/><br/><b>Jay Gatsby, who dreamed a dream with the passion and courage few possess - and the tragedy was that it was a wrong dream colliding with reality that was even more wrong - and deadly.</b> <br/><br/>Just like the Great Houdini - the association the </span>\\\\n  <span id=\"freeText17639314611116822342\" style=\"display:none\"><br>Oh Gatsby, you old sport, you poor semi-delusionally hopeful dreamer with \\\\\\'<i>some heightened sensitivity to the promises of life</i>\\\\\\', focusing your whole self and soul on that elusive money-colored green light - a dream that shatters just when you are *this* close to it. <br><br><img src=\"https://i.gr-assets.com/images/S/compressed.photo.goodreads.com/hostedimages/1380334543i/693798._SX540_.jpg\" width=\"400\" class=\"gr-hostedUserImg\"><br><br><b>Jay Gatsby, who dreamed a dream with the passion and courage few possess - and the tragedy was that it was a wrong dream colliding with reality that was even more wrong - and deadly.</b> <br><br>Just like the Great Houdini - the association the title of this book so easily invokes - you specialized in illusions and escape. Except even the power of most courageous dreamers can be quite helpless to allow us escape the world, our past, and ourselves, giving rise to one of the most famous closing lines of a novel.<blockquote>\\\\n  <i>\\\\\\'Gatsby believed in the green light, the orgastic future that year by year recedes before us. It eluded us then, but that\\\\xe2\\\\x80\\\\x99s no matter \\\\xe2\\\\x80\\\\x94 to-morrow we will run faster, stretch out our arms farther... And one fine morning \\\\xe2\\\\x80\\\\x94\\\\xe2\\\\x80\\\\x94 <br><br>So we beat on, boats against the current, borne back ceaselessly into the past.\\\\\\'</i>\\\\n</blockquote>Dear Gatsby, not everything I liked back when I was fourteen has withstood the test of time\\\\xc2\\\\xb9 - but you clearly did, and as I get older, closer to your and Nick Carraway\\\\\\'s age, your story gathers more dimensions and more tragedy, fleshing out so much more from what I thought of as a tragic love story when I was a child - turning into a great American tragedy.<blockquote>\\\\xc2\\\\xb9 I hang my head in shame at my ability to still belt out an enthusiastic <i>(albeit poorly rendered)</i> version of <i>\\\\\\'...Baby One More Time\\\\\\'</i> when it comes on the radio <i>(provided, of course, that my car windows are safely up)</i>.<br><br>I blame it on my residual teenage hormones.</blockquote><img src=\"https://i.gr-assets.com/images/S/compressed.photo.goodreads.com/hostedimages/1380334543i/693799._SX540_.jpg\" width=\"400\" class=\"gr-hostedUserImg\"><br><br><b>Jay Gatsby, you barged head-on to achieve and conquer your American dream, not stopping until your dreams became your reality, until you reinvented yourself with the dizzying strength of your belief.</b> Your tragedy was that you equated your dream with money, and money with happiness and love. And honestly, given the messed up world we live in, you were not that far from getting everything you thought you wanted, including the kind of love that hinges on the green dollar signs. <br><br>And you *almost* saw it, you poor bastard, but in the end you chose to let your delusion continue, you poor soul.<br><br>Poor Gatsby! Yours is the story of a young man who suddenly rose to wealth and fame, running like a hamster on the wheel amassing wealth for the sake of love, for the sake of winning the heart of a Southern belle, the one whose <b>\\\\n  <i>\\\\\\'voice is full of money\\\\\\'</i>\\\\n</b> - in a book written by a young man who suddenly rose to wealth and fame, desperately running on the hamster wheel of \\\\\\'high life\\\\\\' to win the heart of his own Southern belle. Poor Gatsby, and poor F. Scott Fitzgerald - the guy who so brilliantly described it all, but who continued to live the life his character failed to see for what it was.<br><br><img src=\"https://i.gr-assets.com/images/S/compressed.photo.goodreads.com/hostedimages/1380334544i/693800._SX540_.jpg\" width=\"400\" class=\"gr-hostedUserImg\"><br><br><i>The Great Gatsby</i> is a story about the lavish excesses meant to serve every little whim of the rich and wannabe-rich in the splendid but unsatisfying in their shallow emptiness glitzy and gaudy post-war years, and the resulting suffocation under the uselessness and unexpected oppressiveness of elusive American dream in the time when money was plenty and the alluring seemingly dream life was just around the corner, just within reach.<br><br><b>But first and foremost, it is a story of disillusionment with dreams that prove to be shallow and unworthy of the dreamer</b> - while at the same time firmly hanging on to the idea of the dream, the ability to dream big, and the stubborn tenacity of the dreamer, <b>\\\\n  <i>\\\\\\'an extraordinary gift for hope, a romantic readiness such as I have never found in any other person and which it is not likely I shall ever find again\\\\\\'</i>\\\\n</b>.<br><br><img src=\"https://i.gr-assets.com/images/S/compressed.photo.goodreads.com/hostedimages/1380334544i/693801._SX540_.jpg\" width=\"400\" class=\"gr-hostedUserImg\"><br><br>This is why <i>Gatsby</i> is still so relevant in the world we live in - almost a hundred years after Fitzgerald wrote it in the Roaring Twenties - the present-day world that still worships money and views it as a substitute for the American dream, the world that hinges on materialism, the world that no longer frowns on the gaudiness and glitz of the nouveau riche. <br><br>In this world Jay Gatsby, poor old sport, with his huge tasteless mansion and lavish tasteless parties and in-your-face tasteless car and tasteless pink suit would be, perhaps, quietly sniggered at - but would have fit in without the need for aristocratic breeding - who cares if he has the money and the ability to throw parties worthy of reality show fame??? <br><br><img src=\"https://i.gr-assets.com/images/S/compressed.photo.goodreads.com/hostedimages/1380334544i/693802._SX540_.jpg\" width=\"400\" class=\"gr-hostedUserImg\"><br><br>Because in the present world just the fact of having heaps of money makes you worthy - and therefore the people whose <i>\\\\\\'voices are full of money\\\\\\'</i>, who are <i>\\\\\\'gleaming like silver, safe and proud above the hot struggles of the poor\\\\\\'</i>, people who genuinely believe that money makes them worthy and invincible are all too common. Tom and Daisy Buchanan would be proud of them. <br><br><b>And wannabe Gatsbys pour their capacity to dream into chasing the shallow dream of dollar signs, nothing more.</b><blockquote>\\\\n  <i>\\\\\\'They were careless people, Tom and Daisy \\\\xe2\\\\x80\\\\x94 they smashed up things and creatures and then retreated back into their money or their vast carelessness, or whatever it was that kept them together, and let other people clean up the mess they had made.\\\\\\'</i>\\\\n</blockquote><img src=\"https://i.gr-assets.com/images/S/compressed.photo.goodreads.com/hostedimages/1380334544i/693803._SX540_.jpg\" width=\"400\" class=\"gr-hostedUserImg\"><br><br>This book somehow hit the right note back when I read it when I was fourteen, and hit even truer note now, deeply resonating with me a decade short of a hundred years since it was written. If you read it for school years ago, I ask you to pick it up and give its pages another look - and it may amaze you. <br><br><b>Five green-light stars in the fog at the end of a dock.</b></span>\\\\n  <a data-text-id=\"17639314611116822342\" href=\"#\" onclick=\"swapContent($(this));; return false;\">...more</a>\\\\n\\\\n          </span>\\\\n        </div>\\\\n\\\\n\\\\n      <div class=\"reviewFooter uitext buttons\">\\\\n          \\\\n\\\\n<tr class=\"no_border feedFooterReview\" id=\"update_comment_stuff_Review101057684\">\\\\n  <td colspan=\"2\">\\\\n    <div class=\"updateActionLinks\">\\\\n        <a class=\"right flag\" rel=\"nofollow\" id=\"flag_link101057684\" title=\"Flag this review as inappropriate.\" href=\"/flagged/new?resource_id=101057684&amp;resource_type=Review&amp;return_url=%2Fbook%2Fshow%2F4671.The_Great_Gatsby\">flag</a>\\\\n\\\\n\\\\n\\\\n\\\\n\\\\n      <span class=\\\\\\'likeItContainer\\\\\\' id=\\\\\\'like_container_review_101057684\\\\\\'><a id=\"like_count_review_101057684\" rel=\"nofollow\" href=\"/rating/voters/101057684?resource_type=Review\"><span class=\"likesCount\">1125 likes</span></a>&nbsp;&middot;&nbsp;<a rel=\"nofollow\" class=\"jsLike like_it gr-button gr-button--small\" href=\"https://www.goodreads.com/user/new?remember=true&amp;return_url=%2Fbook%2Fshow%2F4671.The_Great_Gatsby\">Like</a></span>\\\\n&nbsp;&middot;&nbsp;<a href=\"/review/show/101057684?book_show_action=true&amp;from_review_page=1\">see review</a>\\\\n    </div>\\\\n\\\\n\\\\n    <div id=\\\\\\'comments_for_review_101057684\\\\\\' style=\\\\\\'display: none;\\\\\\'>\\\\n<div class=\\\\\\'brown_comment\\\\\\'>\\\\n<span class=\"loadingLinkSpan\"><a class=\"loadingLink\" data-remote=\"true\" href=\"/review/101057684/comments?reverse=true\">View all 95 comments</a><span class=\"loadingAnimation\"></span><span class=\"loadingError\"></span></span>\\\\n</div>\\\\n\\\\n</div>\\\\n\\\\n  </td>\\\\n</tr>\\\\n\\\\n      </div>\\\\n\\\\n  </div>\\\\n\\\\n  <div class=\"clear\"></div>\\\\n</div>\\\\n\\\\n    </div>\\\\n  </div>\\\\n    <div class=\"elementListBrownSeparator\"></div>\\\\n\\\\n\\\\n\\\\n  <div class=\"friendReviews elementListBrown\" >\\\\n    <div class=\"section\">\\\\n      \\\\n\\\\n'"
      ]
     },
     "execution_count": 7,
     "metadata": {},
     "output_type": "execute_result"
    }
   ],
   "source": [
    "reviews[0]"
   ]
  },
  {
   "cell_type": "code",
   "execution_count": 8,
   "metadata": {},
   "outputs": [],
   "source": [
    "def parseReview(review):\n",
    "    d = {}\n",
    "    d['stars'] = review.split('<span class=\" staticStars\" title=\"')[1].split('\"')[0] \n",
    "    d['date'] = review.split('<a class=\"reviewDate')[1].split('>')[1].split('<')[0]\n",
    "    d['user'] = review.split('<a title=\"')[1].split('\"')[0]\n",
    "    shelves = []\n",
    "    try:\n",
    "        shelfBlock = review.split('<div class= \"uitext greyText bookshelves\">')[1].split('</div')[0]\n",
    "        for s in shelfBlock.split('shelf=')[1:]:\n",
    "            shelves.append(s.split('\"')[0])\n",
    "        d['shelves'] = shelves\n",
    "    except Exception as e:\n",
    "        pass\n",
    "    reviewBlock = review.split('<div class=\"reviewtext stacked\">')[1].split('</div')[0]\n",
    "    d['reviewBlock'] = reviewBlock\n",
    "    return d"
   ]
  },
  {
   "cell_type": "code",
   "execution_count": 9,
   "metadata": {},
   "outputs": [
    {
     "ename": "IndexError",
     "evalue": "list index out of range",
     "output_type": "error",
     "traceback": [
      "\u001b[1;31m---------------------------------------------------------------------------\u001b[0m",
      "\u001b[1;31mIndexError\u001b[0m                                Traceback (most recent call last)",
      "\u001b[1;32m<ipython-input-9-d899b36b17f4>\u001b[0m in \u001b[0;36m<module>\u001b[1;34m\u001b[0m\n\u001b[1;32m----> 1\u001b[1;33m \u001b[0mreviewDict\u001b[0m \u001b[1;33m=\u001b[0m \u001b[1;33m[\u001b[0m\u001b[0mparseReview\u001b[0m\u001b[1;33m(\u001b[0m\u001b[0mr\u001b[0m\u001b[1;33m)\u001b[0m \u001b[1;32mfor\u001b[0m \u001b[0mr\u001b[0m \u001b[1;32min\u001b[0m \u001b[0mreviews\u001b[0m\u001b[1;33m]\u001b[0m\u001b[1;33m\u001b[0m\u001b[1;33m\u001b[0m\u001b[0m\n\u001b[0m",
      "\u001b[1;32m<ipython-input-9-d899b36b17f4>\u001b[0m in \u001b[0;36m<listcomp>\u001b[1;34m(.0)\u001b[0m\n\u001b[1;32m----> 1\u001b[1;33m \u001b[0mreviewDict\u001b[0m \u001b[1;33m=\u001b[0m \u001b[1;33m[\u001b[0m\u001b[0mparseReview\u001b[0m\u001b[1;33m(\u001b[0m\u001b[0mr\u001b[0m\u001b[1;33m)\u001b[0m \u001b[1;32mfor\u001b[0m \u001b[0mr\u001b[0m \u001b[1;32min\u001b[0m \u001b[0mreviews\u001b[0m\u001b[1;33m]\u001b[0m\u001b[1;33m\u001b[0m\u001b[1;33m\u001b[0m\u001b[0m\n\u001b[0m",
      "\u001b[1;32m<ipython-input-8-c75f5f1b0e9e>\u001b[0m in \u001b[0;36mparseReview\u001b[1;34m(review)\u001b[0m\n\u001b[0;32m      1\u001b[0m \u001b[1;32mdef\u001b[0m \u001b[0mparseReview\u001b[0m\u001b[1;33m(\u001b[0m\u001b[0mreview\u001b[0m\u001b[1;33m)\u001b[0m\u001b[1;33m:\u001b[0m\u001b[1;33m\u001b[0m\u001b[1;33m\u001b[0m\u001b[0m\n\u001b[0;32m      2\u001b[0m     \u001b[0md\u001b[0m \u001b[1;33m=\u001b[0m \u001b[1;33m{\u001b[0m\u001b[1;33m}\u001b[0m\u001b[1;33m\u001b[0m\u001b[1;33m\u001b[0m\u001b[0m\n\u001b[1;32m----> 3\u001b[1;33m     \u001b[0md\u001b[0m\u001b[1;33m[\u001b[0m\u001b[1;34m'stars'\u001b[0m\u001b[1;33m]\u001b[0m \u001b[1;33m=\u001b[0m \u001b[0mreview\u001b[0m\u001b[1;33m.\u001b[0m\u001b[0msplit\u001b[0m\u001b[1;33m(\u001b[0m\u001b[1;34m'<span class=\" staticStars\" title=\"'\u001b[0m\u001b[1;33m)\u001b[0m\u001b[1;33m[\u001b[0m\u001b[1;36m1\u001b[0m\u001b[1;33m]\u001b[0m\u001b[1;33m.\u001b[0m\u001b[0msplit\u001b[0m\u001b[1;33m(\u001b[0m\u001b[1;34m'\"'\u001b[0m\u001b[1;33m)\u001b[0m\u001b[1;33m[\u001b[0m\u001b[1;36m0\u001b[0m\u001b[1;33m]\u001b[0m\u001b[1;33m\u001b[0m\u001b[1;33m\u001b[0m\u001b[0m\n\u001b[0m\u001b[0;32m      4\u001b[0m     \u001b[0md\u001b[0m\u001b[1;33m[\u001b[0m\u001b[1;34m'date'\u001b[0m\u001b[1;33m]\u001b[0m \u001b[1;33m=\u001b[0m \u001b[0mreview\u001b[0m\u001b[1;33m.\u001b[0m\u001b[0msplit\u001b[0m\u001b[1;33m(\u001b[0m\u001b[1;34m'<a class=\"reviewDate'\u001b[0m\u001b[1;33m)\u001b[0m\u001b[1;33m[\u001b[0m\u001b[1;36m1\u001b[0m\u001b[1;33m]\u001b[0m\u001b[1;33m.\u001b[0m\u001b[0msplit\u001b[0m\u001b[1;33m(\u001b[0m\u001b[1;34m'>'\u001b[0m\u001b[1;33m)\u001b[0m\u001b[1;33m[\u001b[0m\u001b[1;36m1\u001b[0m\u001b[1;33m]\u001b[0m\u001b[1;33m.\u001b[0m\u001b[0msplit\u001b[0m\u001b[1;33m(\u001b[0m\u001b[1;34m'<'\u001b[0m\u001b[1;33m)\u001b[0m\u001b[1;33m[\u001b[0m\u001b[1;36m0\u001b[0m\u001b[1;33m]\u001b[0m\u001b[1;33m\u001b[0m\u001b[1;33m\u001b[0m\u001b[0m\n\u001b[0;32m      5\u001b[0m     \u001b[0md\u001b[0m\u001b[1;33m[\u001b[0m\u001b[1;34m'user'\u001b[0m\u001b[1;33m]\u001b[0m \u001b[1;33m=\u001b[0m \u001b[0mreview\u001b[0m\u001b[1;33m.\u001b[0m\u001b[0msplit\u001b[0m\u001b[1;33m(\u001b[0m\u001b[1;34m'<a title=\"'\u001b[0m\u001b[1;33m)\u001b[0m\u001b[1;33m[\u001b[0m\u001b[1;36m1\u001b[0m\u001b[1;33m]\u001b[0m\u001b[1;33m.\u001b[0m\u001b[0msplit\u001b[0m\u001b[1;33m(\u001b[0m\u001b[1;34m'\"'\u001b[0m\u001b[1;33m)\u001b[0m\u001b[1;33m[\u001b[0m\u001b[1;36m0\u001b[0m\u001b[1;33m]\u001b[0m\u001b[1;33m\u001b[0m\u001b[1;33m\u001b[0m\u001b[0m\n",
      "\u001b[1;31mIndexError\u001b[0m: list index out of range"
     ]
    }
   ],
   "source": [
    "reviewDict = [parseReview(r) for r in reviews]"
   ]
  },
  {
   "cell_type": "code",
   "execution_count": null,
   "metadata": {},
   "outputs": [],
   "source": [
    "reviewDict[0]"
   ]
  },
  {
   "cell_type": "code",
   "execution_count": null,
   "metadata": {},
   "outputs": [],
   "source": [
    "from bs4 import BeautifulSoup"
   ]
  },
  {
   "cell_type": "code",
   "execution_count": null,
   "metadata": {},
   "outputs": [],
   "source": [
    "soup = BeautifulSoup(reviewDict[0]['reviewBlock'])"
   ]
  },
  {
   "cell_type": "code",
   "execution_count": null,
   "metadata": {},
   "outputs": [],
   "source": [
    "soup.text"
   ]
  },
  {
   "cell_type": "code",
   "execution_count": null,
   "metadata": {},
   "outputs": [],
   "source": []
  }
 ],
 "metadata": {
  "kernelspec": {
   "display_name": "Python 3",
   "language": "python",
   "name": "python3"
  },
  "language_info": {
   "codemirror_mode": {
    "name": "ipython",
    "version": 3
   },
   "file_extension": ".py",
   "mimetype": "text/x-python",
   "name": "python",
   "nbconvert_exporter": "python",
   "pygments_lexer": "ipython3",
   "version": "3.9.0"
  }
 },
 "nbformat": 4,
 "nbformat_minor": 4
}
